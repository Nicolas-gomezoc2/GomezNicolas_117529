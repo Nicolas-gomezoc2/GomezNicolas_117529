{
 "cells": [
  {
   "cell_type": "code",
   "execution_count": null,
   "metadata": {
    "collapsed": true
   },
   "outputs": [],
   "source": [
    "#taller1: Nicolas_Gomez _Ocampo_117529\n",
    "# Programas realizados con Python 2\n",
    "#%%\n",
    "#ejercicio1: valor absoluto\n",
    "num = int(input('Digite un numero: '))#aqui pedimos un numero\n",
    " \n",
    "if num >= 0: #este ciclo tiene en cuenta el caso de que el numero sea mayor a 0\n",
    "  absoluto = num\n",
    "  print(\"El valor absoluto de\", num,\"es\" ,absoluto)\n",
    "else: # si no es mayor a cero entonces debe ser menor\n",
    "  absoluto = num * -1\n",
    "  print(\"El valor absoluto de\", num,\"es\" ,absoluto)\n",
    "\n"
   ]
  },
  {
   "cell_type": "code",
   "execution_count": null,
   "metadata": {
    "collapsed": true
   },
   "outputs": [],
   "source": [
    "#%%ejercicio2: diferencia prima\n",
    "num1=int((input(\"ingrese el digito inicial: \")))#aqui pedimos el primer digito \n",
    "num2=int((input(\"ingrese el digito final \")))#aqui pedimos el segundo\n",
    "num=num2-num1\n",
    "if num >= 0: #sigue la misma estructura del ciclo pasado\n",
    "  absoluto = num\n",
    "else:\n",
    "  absoluto = num * -1\n",
    "print(\"la diferencia es \", absoluto)\n",
    "a=0\n",
    "for i in range(1,absoluto+1):# aqui se establecen las condiciones de un primo\n",
    " if(absoluto % i==0):\n",
    "  a=a+1\n",
    "if(a!=2):\n",
    " print(\"No es primo\")\n",
    "else:\n",
    " print(\"si es primo\")"
   ]
  },
  {
   "cell_type": "code",
   "execution_count": null,
   "metadata": {
    "collapsed": true
   },
   "outputs": [],
   "source": [
    "#%%ejercicio3:iteraciones\n",
    "\n",
    "for i in range(0,101):\n",
    "    if i%3==0:# se establece la condicion para ser multiplo de 3\n",
    "        if i<46:\n",
    "           print(i ,\"es multiplo de 3\")\n",
    "print(\"-----\"*5)           \n",
    "for i in range(0,101):\n",
    "    if i%2==0:# se establece la condicion para ser multiplo de 2\n",
    "        if i<31:\n",
    "           print(i ,\"es multiplo de 2\""
   ]
  },
  {
   "cell_type": "code",
   "execution_count": null,
   "metadata": {
    "collapsed": true
   },
   "outputs": [],
   "source": [
    "#%%ejercicio4:coordenadas\n",
    "circulo1_x=int(input(\"ingrese la coordenada en x del circulo 1: \"))    \n",
    "circulo1_y=int(input(\"ingrese la coordenada en y del circulo 1: \")) \n",
    "radio1=int(input(\"ingrese el radio del circulo 1: \"))\n",
    "circulo2_x=int(input(\"ingrese la coordenada en x del circulo 2: \"))    \n",
    "circulo2_y=int(input(\"ingrese la coordenada en y del circulo 2: \")) \n",
    "radio2=int(input(\"ingrese el radio del circulo 2: \")) \n",
    "x=int(input(\"digite la coordenada en x del punto: \"))\n",
    "y=int(input(\"digite la coordenada en y del punto: \"))\n",
    "#A continuacion se usa la analogia de un triangulo rectangulo donde la hipoten-\n",
    "#-usa es el radio y las distancias x,y sus lados, se juega con estp para saber\n",
    "#si el punto esta dentro o fuera de un circulo:\n",
    "if ((circulo1_x-x)^2+(circulo1_y-y)^2)>radio1**2:\n",
    "    print(\"el punto esta fuera del circulo 1 \")\n",
    "else:\n",
    "    print(\"el punto esta dentro del circulo 1\")\n",
    "if ((circulo2_x-x)^2+(circulo2_y-y)^2)>radio2**2:\n",
    "    print(\"el punto esta fuera del circulo 2 \")\n",
    "else:\n",
    "    print(\"el punto esta dentro del circulo 2\")"
   ]
  },
  {
   "cell_type": "code",
   "execution_count": null,
   "metadata": {
    "collapsed": true
   },
   "outputs": [],
   "source": [
    "#%%ejercicio 5:cadena de texto\n",
    "cadena = raw_input(\"Introduce una cadena de texto: \")#este comando nos permite \n",
    "#ingresar un texto \n",
    "print(cadena.count(\" \"),\"espacios\")\n",
    "print(len(cadena),\"digitos\")\n",
    "indice=0\n",
    "mayusculas=0\n",
    "minusculas=0\n",
    "while indice < len(cadena):#con este ciclo vamos contando mayusculas y minusc.\n",
    "  letra = cadena[indice]\n",
    "  if letra.isupper() == True:\n",
    "    mayusculas +=1\n",
    "  else:\n",
    "    minusculas +=1\n",
    "  indice += 1\n",
    "\n",
    "print(\"Total mayusculas: \" , mayusculas)\n",
    "print(\"Total minusculas: \" , minusculas)"
   ]
  },
  {
   "cell_type": "code",
   "execution_count": null,
   "metadata": {
    "collapsed": true
   },
   "outputs": [],
   "source": [
    "#%%ejercicio 6:organizacion alfabetica\n",
    "cadena = raw_input(\"Introduce una cadena de texto: \")\n",
    "b=sorted(cadena)#este comando organiza la cadena dde forma alfabetica\n",
    "c=\" \".join(b)#este comando imprime b con espacios y no como lista\n",
    "print(c)"
   ]
  },
  {
   "cell_type": "code",
   "execution_count": null,
   "metadata": {
    "collapsed": true
   },
   "outputs": [],
   "source": [
    "#%% ejercicio 7: lista ordenada\n",
    "lista=[]\n",
    "n = int(input(\"digite el numero de elementos de la lista : \")) \n",
    "   \n",
    "for i in range(0, n): \n",
    "    ele = int(input()) \n",
    "    lista.append(ele) \n",
    "print(lista,\"orden incorrecto\")    \n",
    "lista.sort()\n",
    "print(lista,\"orden correcto\")"
   ]
  },
  {
   "cell_type": "code",
   "execution_count": null,
   "metadata": {
    "collapsed": true
   },
   "outputs": [],
   "source": [
    "#%% 8:segundo mayor lista \n",
    "lista=[]\n",
    "n = int(input(\"digite el numero de elementos de la lista : \")) \n",
    "   \n",
    "for i in range(0, n): \n",
    "    ele = int(input()) \n",
    "    lista.append(ele)   \n",
    "lista.sort()\n",
    "x=len(lista)\n",
    "for a in range(0,x-1):\n",
    "    if lista[a]==lista[x-1]:\n",
    "        a+=1\n",
    "        print(\"la lista no tiene maximo\")\n",
    "    else:\n",
    "        print(\"el segundo numero mayor de la lista es \",lista[(x-2)])"
   ]
  },
  {
   "cell_type": "code",
   "execution_count": null,
   "metadata": {
    "collapsed": true
   },
   "outputs": [],
   "source": [
    "#%%9:sucesion \n",
    "rango=int(input(\"digame cuantos terminos quiere: \"))        \n",
    "An=int(input(\"digame el numero inicial: \"))\n",
    "lista=[]   \n",
    "cont=0\n",
    "lista.append(An)# esto nos mostrara el An inicial\n",
    "while cont<rango-1:# asi añadiremos todos los numeros de la lista         \n",
    "    if An%2==0:#asi definimos la condicion si es par\n",
    "        An=An/2\n",
    "        lista.append(An)\n",
    "    else:#asi definimos la condicion si es impar\n",
    "        An=(An*3)+1\n",
    "        lista.append(An)\n",
    "            \n",
    "    cont=cont+1#este contador nos ayuda a avanzar en la lista\n",
    "print(lista)  "
   ]
  },
  {
   "cell_type": "code",
   "execution_count": null,
   "metadata": {
    "collapsed": true
   },
   "outputs": [],
   "source": [
    "#%%10:matriz\n",
    "\n",
    "A =([1,2,3,4,5],\n",
    "    [6,7,8,9,10],\n",
    "    [11,12,13,14,15],\n",
    "    [16,17,18,19,20])\n",
    "fila_bot=A[-1][-1::-1]#esto recorre la fila d abajo\n",
    "fila_up=A[0]#estp recorre la fila de arriba\n",
    "col_l=[]\n",
    "for i in range(-2,-len(A),-1):\n",
    "    col_l.append(A[i][0])#asi obtenemos la columna izquierda \n",
    "col_r=[]\n",
    "for i in range(1,len(A)-1):\n",
    "    col_r.append(A[i][-1])#asi obtenemos la columna derecha\n",
    "B=[]\n",
    "\n",
    "for i in range(1,len(A)-1):\n",
    "    B.append(A[i][1:len(A[i])-1])\n",
    "fila_botb=B[-1][-1::-1]\n",
    "fila_upb=B[0]    \n",
    "C=([fila_bot],[col_l],[fila_up],[col_r],[fila_botb],[fila_upb])\n",
    "\n",
    "print(C)\n",
    "#print(fila_bot,col_l,fila_up,col_r,fila_botb,fila_upb)"
   ]
  },
  {
   "cell_type": "code",
   "execution_count": null,
   "metadata": {
    "collapsed": true
   },
   "outputs": [],
   "source": [
    "#%%11:funcion cuadrado\n",
    "from __future__ import print_function#Esto nos permite usar print de python3\n",
    "def rectangulo(ancho, alto, letra):\n",
    "    for i in range(alto):\n",
    "        for j in range(ancho):\n",
    "            print(letra, end=\" \" )\n",
    "        print()\n",
    "\n",
    "anch=int(input(\"digite el ancho del rectangulo: \"))\n",
    "alt=int(input(\"digite la altura del rectangulo: \"))\n",
    "caracter=input(\"digite elcaracter a utilizar: \")\n",
    "rectangulo(anch,alt,caracter)\n"
   ]
  },
  {
   "cell_type": "code",
   "execution_count": null,
   "metadata": {
    "collapsed": true
   },
   "outputs": [],
   "source": [
    "#%%12:\n",
    "from __future__ import print_function#Esto nos permite usar print de python3\n",
    "def creciente(ancho):\n",
    "    for i in range(1, ancho + 1):\n",
    "        for j in range(i):\n",
    "            print(\"* \", end=\" \")\n",
    "        print()\n",
    "\n",
    "def decreciente(ancho):\n",
    "    for i in range(1, ancho):\n",
    "        for j in range(ancho - i):\n",
    "            print(\"* \", end=\"\")\n",
    "        print()\n",
    "\n",
    "anchura=int(input(\"digite el ancho del triangulo: \"))\n",
    "creciente(anchura)\n",
    "decreciente(anchura)"
   ]
  },
  {
   "cell_type": "code",
   "execution_count": null,
   "metadata": {
    "collapsed": true
   },
   "outputs": [],
   "source": [
    "#%%13:bisiestos\n",
    "def es_bisiesto(t):\n",
    "    return t % 400 == 0 or (t % 100 != 0 and t % 4 == 0)\n",
    "#con lo anterior establecims la condicion de un año bisiesto\n",
    "cantidad=int(input(\"digite el año:  \"))\n",
    "if es_bisiesto(cantidad):\n",
    "    print(\"El año\", cantidad, \"es un año bisiesto.\")\n",
    "else:\n",
    "    print(\"El año\", cantidad, \"no es un año bisiesto.\")"
   ]
  },
  {
   "cell_type": "code",
   "execution_count": null,
   "metadata": {
    "collapsed": true
   },
   "outputs": [],
   "source": [
    "#%%14;  funcion 5 sumas  \n",
    "import random\n",
    "\n",
    "def fun1():\n",
    "    \"\"\"Esta funcion pide el resultado de dos numeros entre 1 y 100\"\"\"\n",
    "    print(\"Escriba el resultado de las siguientes operaciones\")\n",
    "    correctas=0 #necesitamos un contador para condicionar el ciclo while\n",
    "    while correctas<5:#concicionamos el numero de aciertos\n",
    "        a=random.randrange(1,101)#obtenemos dos numeros cualquiera\n",
    "        b=random.randrange(1,101)\n",
    "        print(a,\"+\",b,\"=\")\n",
    "        respuesta=int(input(\"digite la respuesta de la suma: \"))\n",
    "        if respuesta==a+b:#con este ciclo separamos cuando es correcta\n",
    "            correctas+=1\n",
    "            print(\"Respuesta correcta!!\")\n",
    "        else: #con este ciclo separamos cuando es correcta\n",
    "            print(\"Respuesta incorrecta\") \n",
    "        print()\n",
    "    print(\"programa terminado\")\n",
    "       \n",
    "\n",
    "if __name__==\"__fun1__\": #Asi se puede usar la funcion como modulo\n",
    "    fun1()"
   ]
  },
  {
   "cell_type": "code",
   "execution_count": null,
   "metadata": {
    "collapsed": true
   },
   "outputs": [],
   "source": [
    "#%%15:funcion master mind\n",
    "import random\n",
    "\n",
    "digitos = ('0','1','2','3','4','5','6','7','8','9')\n",
    "\n",
    "codigo = ''\n",
    "for i in range(4):\n",
    "    candidato = random.choice(digitos)\n",
    "    # vamos eligiendo digitos no repetidos*\n",
    "    while candidato in codigo:\n",
    "        candidato = random.choice(digitos)\n",
    "    codigo = codigo + candidato\n",
    "print (\"Bienvenido/a al Mastermind!\")\n",
    "print (\"Tienes que adivinar un numero de\", 4, \"cifras distintas\")\n",
    "propuesta=raw_input(\"ingresa el valor que supones: \")\n",
    "intentos = 1\n",
    "while propuesta != codigo:\n",
    "    intentos = intentos + 1\n",
    "    aciertos = 0\n",
    "    coincidencias = 0\n",
    "\n",
    "    # recorremos la propuesta y verificamos en el codigo\n",
    "    for i in range(4):\n",
    "        if propuesta[i] == codigo[i]:\n",
    "            aciertos = aciertos + 1\n",
    "        elif propuesta[i] in codigo:\n",
    "            coincidencias = coincidencias + 1\n",
    "    print (\"Tu propuesta \", propuesta, \" tiene\", aciertos,\\\n",
    "    \"aciertos y\" , coincidencias, \"coincidencias.\")\n",
    "    # pedimos siguiente propuesta*\n",
    "    propuesta=raw_input(\"sopon otro codigo: \")\n",
    "print (\"Felicitaciones! Adivinaste el codigo en\", intentos, \"intentos.\")"
   ]
  }
 ],
 "metadata": {
  "kernelspec": {
   "display_name": "Python 3",
   "language": "python",
   "name": "python3"
  },
  "language_info": {
   "codemirror_mode": {
    "name": "ipython",
    "version": 3
   },
   "file_extension": ".py",
   "mimetype": "text/x-python",
   "name": "python",
   "nbconvert_exporter": "python",
   "pygments_lexer": "ipython3",
   "version": "3.6.3"
  }
 },
 "nbformat": 4,
 "nbformat_minor": 2
}
